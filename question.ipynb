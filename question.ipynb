{
 "cells": [
  {
   "cell_type": "markdown",
   "metadata": {},
   "source": [
    "**一些问题**\n",
    "---\n",
    "1. 国赛相关未通知--> 已问客服\n",
    "2. 做个什么东西，才有创新性呢\n"
   ]
  },
  {
   "cell_type": "markdown",
   "metadata": {},
   "source": [
    "**一些信息**\n",
    "---\n",
    "1. 提交：文档、演示视频、程序\n",
    "2. 线上筛一半  \n",
    "3. 作品中无学校等信息\n",
    "4. 看重：准确性 效率 **创新性**——> 做个什么 **实用性**——>能干什么 **成熟度** 安全性 团队表现\n"
   ]
  },
  {
   "cell_type": "markdown",
   "metadata": {},
   "source": [
    "***一些思路***：\n",
    "---\n",
    "1. （创新性、实用性）可以和大模型结合，输入数据可以多种多样，图片、csv、文字都行，大模型翻译为标准数据格式，再分析\n",
    "2. （成熟度）分析之后可视化、导出为pdf文件？\n",
    "3. （实用性）支持很老的系统、比如xp\n",
    "4. （安全性）外部：多层套壳  大模型翻译：ssl证书 大模型仅作数据分析、不记录数据\n",
    "5. （成熟度）加一些其他小工具\n",
    "6. （成熟度）批量检测\n",
    "7. 具体实现：pyside/pyqt \n",
    "8. 文档和视频制作：直接看一些其余竞赛文档编写的作品\n",
    "9.  数据集：\n",
    "   * [中国数字创新大赛][def1]\n",
    "   * [遇见数据集][def3]\n",
    "10. 可借鉴：\n",
    "   * [中国数字创新大赛优秀算法][def2]\n",
    "   * [欺诈交易检测][def4]\n",
    "\n",
    "\n",
    "\n",
    "[def1]: https://www.heywhale.com/mw/dataset/65f7ef7c11c2489fb8cf2614\n",
    "[def2]: https://github.com/Uroboros0313/DCIC2023_Fraud_Risk_Detect\n",
    "[def3]: https://www.selectdataset.com/search?tags=%E6%AC%BA%E8%AF%88%E6%A3%80%E6%B5%8B\n",
    "[def4]: https://github.com/mkuangdotcom/Fraud_Detection?tab=readme-ov-file"
   ]
  }
 ],
 "metadata": {
  "language_info": {
   "name": "python"
  }
 },
 "nbformat": 4,
 "nbformat_minor": 2
}
